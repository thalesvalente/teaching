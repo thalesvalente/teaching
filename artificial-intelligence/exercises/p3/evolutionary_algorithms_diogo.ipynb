{
  "nbformat": 4,
  "nbformat_minor": 0,
  "metadata": {
    "colab": {
      "provenance": []
    },
    "kernelspec": {
      "name": "python3",
      "display_name": "Python 3"
    },
    "language_info": {
      "name": "python"
    }
  },
  "cells": [
    {
      "cell_type": "markdown",
      "source": [
        "#Algoritmos Evolutivos para Otimização de Hiperparâmetros de MLP em Python\n",
        "Este notebook apresenta uma implementação prática de como Algoritmos Evolutivos (AEs) podem ser usados para otimizar os hiperparâmetros de um Multi-Layer Perceptron (MLP) utilizando as bibliotecas DEAP e scikit-learn. Abordaremos a teoria por trás da combinação dessas técnicas, a implementação do AE, o treinamento e avaliação do MLP, e a análise das métricas de desempenho e curvas de loss."
      ],
      "metadata": {
        "id": "xzQ3QMDM9JXI"
      }
    },
    {
      "cell_type": "markdown",
      "source": [
        "\n",
        "##1. Fundamentos Teóricos\n",
        "\n",
        "###1.1 Algoritmos Evolutivos  \n",
        "Algoritmos Evolutivos (AEs) são meta-heurísticas de otimização inspiradas na evolução biológica. Eles operam em uma população de indivíduos (soluções candidatas), que evoluem ao longo de gerações. Cada indivíduo é avaliado por uma função de aptidão (fitness function), que mede sua qualidade. Os indivíduos mais aptos são selecionados para a reprodução, onde operadores como crossover (recombinação) e mutação criam novos indivíduos, introduzindo variação na população. Esse processo iterativo busca otimizar a aptidão média da população, convergindo para soluções de alta qualidade.\n",
        "\n",
        "###1.2 Multi-Layer Perceptron (MLP)\n",
        "O Multi-Layer Perceptron (MLP) é uma classe de redes neurais feedforward, composta por uma camada de entrada, uma ou mais camadas ocultas e uma camada de saída. Cada neurônio em uma camada está conectado a todos os neurônios da camada seguinte. As conexões possuem pesos ajustáveis durante o treinamento através do algoritmo de retropropagação do erro. MLPs são capazes de aprender e modelar relações não lineares complexas em dados, tornando-os adequados para tarefas de classificação e regressão.\n",
        "\n",
        "###1.3 Otimização de Hiperparâmetros com AEs\n",
        "Os MLPs possuem hiperparâmetros que não são aprendidos durante o treinamento, mas que afetam drasticamente o desempenho do modelo. Exemplos incluem:\n",
        "\n",
        "- Taxa de aprendizado (learning_rate_init): O quão rápido os pesos do modelo são atualizados.\n",
        "\n",
        "- Número de épocas (max_iter): O número de vezes que o conjunto de dados completo é passado para o algoritmo de treinamento.\n",
        "\n",
        "- Tamanho das camadas ocultas (hidden_layer_sizes): A arquitetura da rede neural (número de camadas e neurônios por camada).\n",
        "\n",
        "- Função de ativação (activation): A função não linear aplicada à saída de cada neurônio.\n",
        "\n",
        "- Tipo de otimizador (solver): O algoritmo usado para otimizar os pesos (ex: 'adam', 'sgd').\n",
        "\n",
        "Tradicionalmente, a otimização desses hiperparâmetros é feita por busca em grade (grid search) ou busca aleatória (random search). No entanto, essas abordagens podem ser computacionalmente caras para espaços de busca grandes. AEs oferecem uma alternativa eficiente, explorando o espaço de hiperparâmetros de forma mais inteligente. Cada \"indivíduo\" no AE representa um conjunto específico de hiperparâmetros para o MLP. A \"função de aptidão\" avalia o desempenho do MLP com esses hiperparâmetros em um conjunto de validação.\n",
        "\n",
        "###1.4 Métricas de Avaliação (Precision, Recall, F1-score)\n",
        "Para problemas de classificação, especialmente com classes desbalanceadas, a acurácia pode ser enganosa. Métricas como Precisão, Recall e F1-score fornecem uma visão mais detalhada do desempenho do modelo:\n",
        "\n",
        "- Verdadeiro Positivo (TP): Previsão correta da classe positiva.\n",
        "\n",
        "- Verdadeiro Negativo (TN): Previsão correta da classe negativa.\n",
        "\n",
        "- Falso Positivo (FP): Previsão da classe positiva, mas a real era negativa (erro tipo I).\n",
        "\n",
        "- Falso Negativo (FN): Previsão da classe negativa, mas a real era positiva (erro tipo II).\n",
        "\n",
        "Precisão (Precision): Proporção de previsões positivas que foram realmente corretas.\n",
        "$$\n",
        "Precision=\\frac{TP}{FP+TP}\n",
        "​$$\n",
        "\n",
        "Uma alta precisão indica poucos falsos positivos.\n",
        "\n",
        "Recall (Sensibilidade): Proporção de todas as instâncias positivas reais que foram corretamente identificadas.\n",
        "$$\n",
        "Recall=\\frac{TP}{TP+FN}\n",
        "$$\n",
        "Um alto recall indica poucos falsos negativos.\n",
        "\n",
        "F1-score: Média harmônica da Precisão e do Recall. É útil quando há um desequilíbrio entre Precisão e Recall ou quando as classes estão desbalanceadas.\n",
        "$$\n",
        "F1-score=2×\\frac{Precision×Recall}{Precision+Recall}\n",
        "$$\n",
        "###1.5 Curvas de Loss\n",
        "As curvas de loss (erro) durante o treinamento de uma rede neural são ferramentas visuais cruciais para diagnosticar o aprendizado do modelo.\n",
        "\n",
        "- A loss de treinamento mostra o erro do modelo nos dados usados para o ajuste dos pesos.\n",
        "\n",
        "- A loss de validação mostra o erro em um conjunto de dados separado, não visto durante o treinamento.\n",
        "\n",
        "A análise dessas curvas ajuda a identificar:\n",
        "\n",
        "- Overfitting (Sobreajuste): A loss de treinamento continua diminuindo, mas a loss de validação começa a aumentar. O modelo está memorizando o conjunto de treinamento.\n",
        "\n",
        "- Underfitting (Subajuste): Ambas as losses permanecem altas, indicando que o modelo não está aprendendo os padrões dos dados.\n",
        "\n",
        "- Convergência: Ambas as losses diminuem e se estabilizam, indicando que o modelo está aprendendo bem e generalizando."
      ],
      "metadata": {
        "id": "UsbTYPGo-CDT"
      }
    },
    {
      "cell_type": "markdown",
      "source": [
        "##2. Preparação do Ambiente e Dados\n",
        "###2.1 Instalação de Bibliotecas\n",
        "Primeiro, vamos garantir que temos as bibliotecas necessárias instaladas."
      ],
      "metadata": {
        "id": "egEeE8pO_6lX"
      }
    },
    {
      "cell_type": "code",
      "execution_count": null,
      "metadata": {
        "colab": {
          "base_uri": "https://localhost:8080/"
        },
        "collapsed": true,
        "id": "-2Q3TC6Z89u2",
        "outputId": "898f4ec4-d9da-4a62-9af9-8b9841af5bd1"
      },
      "outputs": [
        {
          "output_type": "stream",
          "name": "stdout",
          "text": [
            "Collecting deap\n",
            "  Downloading deap-1.4.3-cp311-cp311-manylinux_2_5_x86_64.manylinux1_x86_64.manylinux_2_17_x86_64.manylinux2014_x86_64.whl.metadata (13 kB)\n",
            "Requirement already satisfied: scikit-learn in /usr/local/lib/python3.11/dist-packages (1.6.1)\n",
            "Requirement already satisfied: matplotlib in /usr/local/lib/python3.11/dist-packages (3.10.0)\n",
            "Requirement already satisfied: numpy in /usr/local/lib/python3.11/dist-packages (from deap) (2.0.2)\n",
            "Requirement already satisfied: scipy>=1.6.0 in /usr/local/lib/python3.11/dist-packages (from scikit-learn) (1.15.3)\n",
            "Requirement already satisfied: joblib>=1.2.0 in /usr/local/lib/python3.11/dist-packages (from scikit-learn) (1.5.1)\n",
            "Requirement already satisfied: threadpoolctl>=3.1.0 in /usr/local/lib/python3.11/dist-packages (from scikit-learn) (3.6.0)\n",
            "Requirement already satisfied: contourpy>=1.0.1 in /usr/local/lib/python3.11/dist-packages (from matplotlib) (1.3.2)\n",
            "Requirement already satisfied: cycler>=0.10 in /usr/local/lib/python3.11/dist-packages (from matplotlib) (0.12.1)\n",
            "Requirement already satisfied: fonttools>=4.22.0 in /usr/local/lib/python3.11/dist-packages (from matplotlib) (4.58.4)\n",
            "Requirement already satisfied: kiwisolver>=1.3.1 in /usr/local/lib/python3.11/dist-packages (from matplotlib) (1.4.8)\n",
            "Requirement already satisfied: packaging>=20.0 in /usr/local/lib/python3.11/dist-packages (from matplotlib) (24.2)\n",
            "Requirement already satisfied: pillow>=8 in /usr/local/lib/python3.11/dist-packages (from matplotlib) (11.2.1)\n",
            "Requirement already satisfied: pyparsing>=2.3.1 in /usr/local/lib/python3.11/dist-packages (from matplotlib) (3.2.3)\n",
            "Requirement already satisfied: python-dateutil>=2.7 in /usr/local/lib/python3.11/dist-packages (from matplotlib) (2.9.0.post0)\n",
            "Requirement already satisfied: six>=1.5 in /usr/local/lib/python3.11/dist-packages (from python-dateutil>=2.7->matplotlib) (1.17.0)\n",
            "Downloading deap-1.4.3-cp311-cp311-manylinux_2_5_x86_64.manylinux1_x86_64.manylinux_2_17_x86_64.manylinux2014_x86_64.whl (135 kB)\n",
            "\u001b[2K   \u001b[90m━━━━━━━━━━━━━━━━━━━━━━━━━━━━━━━━━━━━━━━━\u001b[0m \u001b[32m135.6/135.6 kB\u001b[0m \u001b[31m7.0 MB/s\u001b[0m eta \u001b[36m0:00:00\u001b[0m\n",
            "\u001b[?25hInstalling collected packages: deap\n",
            "Successfully installed deap-1.4.3\n"
          ]
        }
      ],
      "source": [
        "!pip install deap scikit-learn matplotlib"
      ]
    },
    {
      "cell_type": "markdown",
      "source": [
        "###2.2 Geração de Dados Sintéticos\n",
        "Para demonstrar, geraremos um conjunto de dados sintético para um problema de classificação binária usando scikit-learn."
      ],
      "metadata": {
        "id": "fksG6ZsyAS4I"
      }
    },
    {
      "cell_type": "code",
      "source": [
        "import numpy as np\n",
        "from sklearn.datasets import make_classification\n",
        "from sklearn.model_selection import train_test_split\n",
        "from sklearn.neural_network import MLPClassifier\n",
        "from sklearn.metrics import f1_score, precision_score, recall_score\n",
        "import matplotlib.pyplot as plt\n",
        "from deap import base, creator, tools, algorithms\n",
        "import random\n",
        "import warnings\n",
        "\n",
        "# Suprimir avisos de convergência do MLPClassifier para o propósito de otimização\n",
        "warnings.filterwarnings(\"ignore\", category=FutureWarning)\n",
        "warnings.filterwarnings(\"ignore\", category=UserWarning)\n",
        "\n",
        "# Geração de dados sintéticos\n",
        "X, y = make_classification(n_samples=1000, n_features=20, n_informative=10, n_redundant=5,\n",
        "                           n_classes=2, random_state=42)\n",
        "\n",
        "# Divisão em conjuntos de treinamento, validação e teste\n",
        "# Usamos validação para otimização de hiperparâmetros e teste para avaliação final\n",
        ", X_test, y_train_val, y_test = train_test_split(X, y, test_size=0.2, random_state=42, stratify=y)\n",
        "X_train, X_val, y_train, y_val = train_test_split(X_train_X_train_valval, y_train_val, test_size=0.25, random_state=42, stratify=y_train_val) # 0.25 de 0.8 é 0.2 do total\n",
        "\n",
        "print(f\"Tamanho do conjunto de treinamento: {X_train.shape[0]}\")\n",
        "print(f\"Tamanho do conjunto de validação: {X_val.shape[0]}\")\n",
        "print(f\"Tamanho do conjunto de teste: {X_test.shape[0]}\")"
      ],
      "metadata": {
        "colab": {
          "base_uri": "https://localhost:8080/"
        },
        "id": "A75AArprAZHY",
        "outputId": "ad7cb069-d382-4c83-b1f0-19e1cb290d44"
      },
      "execution_count": null,
      "outputs": [
        {
          "output_type": "stream",
          "name": "stdout",
          "text": [
            "Tamanho do conjunto de treinamento: 600\n",
            "Tamanho do conjunto de validação: 200\n",
            "Tamanho do conjunto de teste: 200\n"
          ]
        }
      ]
    },
    {
      "cell_type": "markdown",
      "source": [
        "##3. Implementação do Algoritmo Evolutivo\n",
        "Vamos configurar o framework DEAP para otimizar os hiperparâmetros do MLPClassifier.\n",
        "\n",
        "###3.1 Definição da Função de Aptidão (Fitness Function)\n",
        "A função de aptidão é o coração do algoritmo evolutivo. Ela recebe um conjunto de hiperparâmetros, treina um MLP com esses parâmetros e retorna uma métrica de desempenho (neste caso, o F1-score) no conjunto de validação."
      ],
      "metadata": {
        "id": "LzfBKuVZBFL2"
      }
    },
    {
      "cell_type": "code",
      "source": [
        "def evaluate_mlp(individual):\n",
        "    # Decodificar o indivíduo para hiperparâmetros do MLP\n",
        "    # Exemplo: [learning_rate_idx, hidden_layer_size_idx, activation_idx, solver_idx, max_iter]\n",
        "\n",
        "    # Mapeamento dos hiperparâmetros\n",
        "    learning_rates = [0.1000, 0.001, 0.01, 0.1]\n",
        "    hidden_layer_sizes_options = [(50,), (100,), (50, 50), (100, 50)] # Exemplos de arquiteturas\n",
        "    activations = ['logistic', 'tanh', 'relu']\n",
        "    solvers = ['adam', 'sgd']\n",
        "\n",
        "    lr = learning_rates[individual[0]]\n",
        "    hidden_layers = hidden_layer_sizes_options[individual[1]]\n",
        "    activation_func = activations[individual[2]]\n",
        "    solver_type = solvers[individual[3]]\n",
        "    max_iterations = int(individual[4]) # Épocas\n",
        "\n",
        "    # Criar e treinar o MLP\n",
        "    mlp = MLPClassifier(\n",
        "        hidden_layer_sizes=hidden_layers,\n",
        "        activation=activation_func,\n",
        "        solver=solver_type,\n",
        "        alpha=1e-5, # Regularização L2 padrão, pode ser otimizada também\n",
        "        batch_size='auto',\n",
        "        learning_rate_init=lr,\n",
        "        max_iter=max_iterations,\n",
        "        random_state=42,\n",
        "        early_stopping=False, # Não usar early stopping aqui para que max_iter seja o fator limitante\n",
        "        n_iter_no_change=10 # Parada antecipada suave, se não usar early_stopping=True\n",
        "    )\n",
        "\n",
        "    try:\n",
        "        mlp.fit(X_train, y_train)\n",
        "\n",
        "        # Capturar as losses de treinamento e validação se o solver for 'adam' ou 'sgd'\n",
        "        # e se o MLP suportar partial_fit (não é o caso do scikit-learn MLPClassifier para loss history)\n",
        "        # Para coletar losses de treino e validação por época, precisaríamos de uma implementação customizada\n",
        "        # ou ajustar o 'max_iter' para ser pequeno e chamar `partial_fit` manualmente, o que não é ideal aqui.\n",
        "        # Por simplicidade e como o MLPClassifier não expõe diretamente o histórico de loss por época para validação,\n",
        "        # vamos treinar e predizer normalmente.\n",
        "        # A coleta das curvas de loss será feita com o melhor modelo encontrado no final.\n",
        "\n",
        "        y_pred = mlp.predict(X_val)\n",
        "        f1 = f1_score(y_val, y_pred)\n",
        "        return f1,\n",
        "    except Exception as e:\n",
        "        # Se ocorrer algum erro durante o treinamento (ex: gradientes explosivos com LR muito alta),\n",
        "        # retornar aptidão baixa para penalizar esse conjunto de hiperparâmetros.\n",
        "        print(f\"Erro ao treinar MLP com hiperparâmetros {individual}: {e}\")\n",
        "        return 0.0, # Retorna 0.0 para aptidão muito baixa"
      ],
      "metadata": {
        "id": "EcRD2E4_BL3c"
      },
      "execution_count": null,
      "outputs": []
    },
    {
      "cell_type": "markdown",
      "source": [
        "###3.2 Configuração do DEAP\n",
        "Agora vamos configurar o `DEAP` para o nosso problema de otimização."
      ],
      "metadata": {
        "id": "H7IlJJ28BwC7"
      }
    },
    {
      "cell_type": "code",
      "source": [
        "# Definir o tipo de Aptidão: maximizar o F1-score\n",
        "creator.create(\"FitnessMax\", base.Fitness, weights=(1.0,))\n",
        "# Definir o Indivíduo: lista de inteiros representando os índices dos hiperparâmetros\n",
        "creator.create(\"Individual\", list, fitness=creator.FitnessMax)\n",
        "\n",
        "toolbox = base.Toolbox()\n",
        "\n",
        "# Atributos: Geradores de valores para cada hiperparâmetro\n",
        "# learning_rate_init: [0, 1, 2, 3] para [0.0001, 0.001, 0.01, 0.1]\n",
        "toolbox.register(\"attr_lr\", random.randint, 0, 3)\n",
        "# hidden_layer_sizes: [0, 1, 2, 3] para [(50,), (100,), (50, 50), (100, 50)]\n",
        "toolbox.register(\"attr_hidden_layers\", random.randint, 0, 3)\n",
        "# activation: [0, 1, 2] para ['logistic', 'tanh', 'relu']\n",
        "toolbox.register(\"attr_activation\", random.randint, 0, 2)\n",
        "# solver: [0, 1] para ['adam', 'sgd']\n",
        "toolbox.register(\"attr_solver\", random.randint, 0, 1)\n",
        "# max_iter: [50, 500] (número de épocas)\n",
        "toolbox.register(\"attr_max_iter\", random.randint, 50, 500)\n",
        "\n",
        "# Estrutura do Indivíduo: uma combinação dos atributos\n",
        "toolbox.register(\"individual\", tools.initCycle, creator.Individual,\n",
        "                 (toolbox.attr_lr,\n",
        "                  toolbox.attr_hidden_layers,\n",
        "                  toolbox.attr_activation,\n",
        "                  toolbox.attr_solver,\n",
        "                  toolbox.attr_max_iter),\n",
        "                 n=1) # n=1 significa que cada indivíduo é uma lista de um conjunto desses atributos\n",
        "\n",
        "# Estrutura da População\n",
        "toolbox.register(\"population\", tools.initRepeat, list, toolbox.individual)\n",
        "\n",
        "# Operadores Genéticos\n",
        "toolbox.register(\"evaluate\", evaluate_mlp)\n",
        "toolbox.register(\"mate\", tools.cxTwoPoint) # Crossover de dois pontos\n",
        "toolbox.register(\"mutate\", tools.mutUniformInt, low=[0, 0, 0, 0, 50], up=[3, 3, 2, 1, 500], indpb=0.1) # Mutação uniforme\n",
        "toolbox.register(\"select\", tools.selTournament, tournsize=3) # Seleção por torneio"
      ],
      "metadata": {
        "id": "_BvE8SjoB3qd"
      },
      "execution_count": null,
      "outputs": []
    },
    {
      "cell_type": "markdown",
      "source": [
        "###3.3 Execução do Algoritmo Genético\n",
        "Vamos executar o algoritmo genético e registrar as estatísticas do processo evolutivo."
      ],
      "metadata": {
        "id": "qBLXaKZrB_m0"
      }
    },
    {
      "cell_type": "code",
      "source": [
        "def main_evolution():\n",
        "    pop = toolbox.population(n=50) # População inicial de 50 indivíduos\n",
        "    hof = tools.HallOfFame(1) # Armazena o melhor indivíduo encontrado\n",
        "    stats = tools.Statistics(lambda ind: ind.fitness.values)\n",
        "    stats.register(\"avg\", np.mean)\n",
        "    stats.register(\"std\", np.std)\n",
        "    stats.register(\"min\", np.min)\n",
        "    stats.register(\"max\", np.max)\n",
        "\n",
        "    # Executa o algoritmo genético simples\n",
        "    # CXPB: Probabilidade de crossover\n",
        "    # MUTPB: Probabilidade de mutação\n",
        "    # NGEN: Número de gerações\n",
        "    pop, log = algorithms.eaSimple(pop, toolbox, cxpb=0.7, mutpb=0.2, ngen=50,\n",
        "                                   stats=stats, halloffame=hof, verbose=True)\n",
        "\n",
        "    return pop, log, hof\n",
        "\n",
        "if __name__ == \"__main__\":\n",
        "    pop, log, hof = main_evolution()\n",
        "\n",
        "    # Melhor indivíduo (conjunto de hiperparâmetros)\n",
        "    best_individual = hof[0]\n",
        "    print(\"\\nMelhor Indivíduo (Hiperparâmetros Codificados):\", best_individual)\n",
        "\n",
        "    learning_rates = [0.0001, 0.001, 0.01, 0.1]\n",
        "    hidden_layer_sizes_options = [(50,), (100,), (50, 50), (100, 50)]\n",
        "    activations = ['logistic', 'tanh', 'relu']\n",
        "    solvers = ['adam', 'sgd']\n",
        "\n",
        "    best_lr = learning_rates[best_individual[0]]\n",
        "    best_hidden_layers = hidden_layer_sizes_options[best_individual[1]]\n",
        "    best_activation = activations[best_individual[2]]\n",
        "    best_solver = solvers[best_individual[3]]\n",
        "    best_max_iter = int(best_individual[4])\n",
        "\n",
        "    print(f\"\\nMelhores Hiperparâmetros Encontrados:\")\n",
        "    print(f\"  Taxa de Aprendizado (learning_rate_init): {best_lr}\")\n",
        "    print(f\"  Tamanho das Camadas Ocultas (hidden_layer_sizes): {best_hidden_layers}\")\n",
        "    print(f\"  Função de Ativação (activation): {best_activation}\")\n",
        "    print(f\"  Otimizador (solver): {best_solver}\")\n",
        "    print(f\"  Número de Épocas (max_iter): {best_max_iter}\")\n",
        "    print(f\"  F1-score de Validação (Melhor): {hof[0].fitness.values[0]:.4f}\")\n",
        "\n",
        "    # Treinar o MLP final com os melhores hiperparâmetros e coletar a loss history\n",
        "    final_mlp = MLPClassifier(\n",
        "        hidden_layer_sizes=best_hidden_layers,\n",
        "        activation=best_activation,\n",
        "        solver=best_solver,\n",
        "        alpha=1e-5,\n",
        "        batch_size='auto',\n",
        "        learning_rate_init=best_lr,\n",
        "        max_iter=best_max_iter,\n",
        "        random_state=42,\n",
        "        early_stopping=True, # Agora podemos usar early stopping para o modelo final para evitar overfitting\n",
        "        n_iter_no_change=20, # Aumentar para ser menos sensível\n",
        "        validation_fraction=0.1 # Fração dos dados de treino para early stopping\n",
        "    )\n",
        "    final_mlp.fit(X_train, y_train)\n",
        "\n",
        "    # Avaliar o modelo final no conjunto de teste\n",
        "    y_pred_test = final_mlp.predict(X_test)\n",
        "    f1_final = f1_score(y_test, y_pred_test)\n",
        "    precision_final = precision_score(y_test, y_pred_test)\n",
        "    recall_final = recall_score(y_test, y_pred_test)\n",
        "\n",
        "    print(f\"\\nResultados do Modelo Final no Conjunto de Teste:\")\n",
        "    print(f\"  F1-score: {f1_final:.4f}\")\n",
        "    print(f\"  Precisão: {precision_final:.4f}\")\n",
        "    print(f\"  Recall: {recall_final:.4f}\")\n",
        "\n",
        "    # Coletar as curvas de loss (o scikit-learn MLPClassifier armazena apenas a loss de treinamento)\n",
        "    # Para a loss de validação, seria necessário uma abordagem de loop manual ou outra biblioteca (TensorFlow/Keras).\n",
        "    # Aqui, `loss_curve_` é a loss de treinamento. Se `early_stopping=True`, o `validation_scores_` também estará disponível.\n",
        "    if hasattr(final_mlp, 'loss_curve_'):\n",
        "        plt.figure(figsize=(10, 6))\n",
        "        plt.plot(final_mlp.loss_curve_, label='Loss de Treinamento')\n",
        "        if hasattr(final_mlp, 'validation_scores_'):\n",
        "             # Ajustar validation_scores_ para ser loss, não score\n",
        "            val_loss = [1 - score for score in final_mlp.validation_scores_] # Aproximação se score for acurácia\n",
        "            plt.plot(val_loss, label='Loss de Validação (Aproximada)') # Aproximação baseada em score, se score é acurácia\n",
        "        plt.title('Curva de Loss do Modelo Final')\n",
        "        plt.xlabel('Épocas')\n",
        "        plt.ylabel('Loss')\n",
        "        plt.legend()\n",
        "        plt.grid(True)\n",
        "        plt.show()"
      ],
      "metadata": {
        "colab": {
          "base_uri": "https://localhost:8080/",
          "height": 1000
        },
        "id": "HpU2A38VCGGN",
        "outputId": "6606c660-3abb-4866-cd5b-1391a464da5f"
      },
      "execution_count": null,
      "outputs": [
        {
          "output_type": "stream",
          "name": "stdout",
          "text": [
            "gen\tnevals\tavg     \tstd     \tmin\tmax     \n",
            "0  \t50    \t0.897572\t0.141188\t0  \t0.970588\n",
            "1  \t36    \t0.924688\t0.0903371\t0.623377\t0.970588\n",
            "2  \t31    \t0.954821\t0.0257233\t0.813084\t0.970588\n",
            "3  \t36    \t0.959724\t0.0203857\t0.843137\t0.970588\n",
            "4  \t42    \t0.962602\t0.0155063\t0.904523\t0.970588\n",
            "5  \t36    \t0.965957\t0.010254 \t0.930693\t0.970588\n",
            "6  \t38    \t0.964279\t0.0193021\t0.873786\t0.970588\n",
            "7  \t37    \t0.968104\t0.00901261\t0.930693\t0.970588\n",
            "8  \t38    \t0.967007\t0.0162025 \t0.887805\t0.970588\n",
            "9  \t39    \t0.970588\t1.11022e-16\t0.970588\t0.970588\n",
            "10 \t37    \t0.96957 \t0.0057631  \t0.930693\t0.970588\n",
            "11 \t38    \t0.967756\t0.0140799  \t0.887805\t0.970588\n",
            "12 \t41    \t0.969865\t0.00493611 \t0.935323\t0.970588\n",
            "13 \t35    \t0.969204\t0.00887004 \t0.907317\t0.970588\n",
            "14 \t33    \t0.967993\t0.0125057  \t0.887805\t0.970588\n",
            "15 \t35    \t0.969481\t0.00563215 \t0.935323\t0.970588\n",
            "16 \t34    \t0.959358\t0.0511573  \t0.623762\t0.970588\n",
            "17 \t36    \t0.968652\t0.0135523  \t0.873786\t0.970588\n",
            "18 \t33    \t0.970455\t0.000814045\t0.964824\t0.970588\n",
            "19 \t36    \t0.969216\t0.00960784 \t0.901961\t0.970588\n",
            "20 \t36    \t0.969049\t0.00737349 \t0.930693\t0.970588\n",
            "21 \t41    \t0.970031\t0.0028856  \t0.950495\t0.970588\n",
            "22 \t42    \t0.968627\t0.0103755  \t0.901961\t0.970588\n",
            "23 \t36    \t0.963536\t0.0485459  \t0.623762\t0.970588\n",
            "24 \t43    \t0.969561\t0.00574759 \t0.930693\t0.970588\n",
            "25 \t40    \t0.961557\t0.0497896  \t0.623762\t0.970588\n",
            "26 \t43    \t0.966456\t0.0157371  \t0.883495\t0.970588\n",
            "27 \t37    \t0.97057 \t0.000124777\t0.969697\t0.970588\n",
            "28 \t40    \t0.967259\t0.016219   \t0.887805\t0.970588\n",
            "29 \t33    \t0.96817 \t0.0120256  \t0.887805\t0.970588\n",
            "30 \t28    \t0.966955\t0.0154399  \t0.873786\t0.970588\n",
            "31 \t42    \t0.969305\t0.00885629 \t0.907317\t0.970588\n",
            "32 \t31    \t0.969182\t0.0065266  \t0.930693\t0.970588\n",
            "33 \t45    \t0.967075\t0.016646   \t0.883495\t0.970588\n",
            "34 \t38    \t0.970535\t0.000211664\t0.969697\t0.970588\n",
            "35 \t38    \t0.969829\t0.00383657 \t0.944162\t0.970588\n",
            "36 \t34    \t0.96959 \t0.00686133 \t0.921569\t0.970588\n",
            "37 \t38    \t0.97057 \t0.000124777\t0.969697\t0.970588\n",
            "38 \t37    \t0.970378\t0.0010338  \t0.964824\t0.970588\n",
            "39 \t32    \t0.949139\t0.136267   \t0       \t0.970588\n",
            "40 \t43    \t0.9678  \t0.0140381  \t0.873786\t0.970588\n",
            "41 \t38    \t0.96691 \t0.0138561  \t0.887805\t0.970588\n",
            "42 \t43    \t0.965965\t0.0204495  \t0.842593\t0.970588\n",
            "43 \t37    \t0.957933\t0.0526026  \t0.623762\t0.970588\n",
            "44 \t33    \t0.968537\t0.0135598  \t0.873786\t0.970588\n",
            "45 \t39    \t0.968287\t0.00984227 \t0.911765\t0.970588\n",
            "46 \t42    \t0.96727 \t0.0152491  \t0.873786\t0.970588\n",
            "47 \t35    \t0.960415\t0.0506929  \t0.623762\t0.970588\n",
            "48 \t37    \t0.968551\t0.0135564  \t0.873786\t0.970588\n",
            "49 \t38    \t0.970535\t0.000211664\t0.969697\t0.970588\n",
            "50 \t39    \t0.970291\t0.00153236 \t0.960784\t0.970588\n",
            "\n",
            "Melhor Indivíduo (Hiperparâmetros Codificados): [1, 2, 2, 1, 330]\n",
            "\n",
            "Melhores Hiperparâmetros Encontrados:\n",
            "  Taxa de Aprendizado (learning_rate_init): 0.001\n",
            "  Tamanho das Camadas Ocultas (hidden_layer_sizes): (50, 50)\n",
            "  Função de Ativação (activation): relu\n",
            "  Otimizador (solver): sgd\n",
            "  Número de Épocas (max_iter): 330\n",
            "  F1-score de Validação (Melhor): 0.9706\n",
            "\n",
            "Resultados do Modelo Final no Conjunto de Teste:\n",
            "  F1-score: 0.8241\n",
            "  Precisão: 0.7739\n",
            "  Recall: 0.8812\n"
          ]
        },
        {
          "output_type": "display_data",
          "data": {
            "text/plain": [
              "<Figure size 1000x600 with 1 Axes>"
            ],
            "image/png": "[encoded data removed]"
          },
          "metadata": {}
        }
      ]
    },
    {
      "cell_type": "markdown",
      "source": [
        "##4. Análise de Resultados\n",
        "Após a execução do algoritmo genético, o `hof` (Hall of Fame) conterá o melhor indivíduo encontrado, que corresponde ao conjunto de hiperparâmetros que resultou no maior **F1-score** no conjunto de validação.\n",
        "\n",
        "###4.1 Melhores Hiperparâmetros\n",
        "A saída do `print` na seção anterior mostrará os melhores hiperparâmetros decodificados que o algoritmo evolutivo encontrou. Essa é a combinação de `learning_rate_init`, `hidden_layer_sizes`, `activation`, `solver` e `max_iter` que otimizou o desempenho do MLP no conjunto de validação.\n",
        "\n",
        "###4.2 Métricas de Desempenho\n",
        "O modelo final, treinado com os hiperparâmetros otimizados, é então avaliado no **conjunto de teste**. É crucial usar o conjunto de teste para a avaliação final, pois ele representa dados completamente novos que o modelo nunca viu, fornecendo uma estimativa imparcial de sua capacidade de generalização. As métricas de **F1-score**, **Precisão** e **Recall** são apresentadas para o conjunto de teste, dando uma visão abrangente do desempenho do classificador.\n",
        "\n",
        "###4.3 Curvas de Loss\n",
        "O gráfico das Curvas de Loss (Treinamento vs. Validação) ilustra como o erro do modelo se comporta ao longo das épocas de treinamento.\n",
        "\n",
        "- A loss de treinamento geralmente diminui constantemente.\n",
        "\n",
        "- A loss de validação deve seguir uma tendência similar. Se ela começar a subir enquanto a loss de treinamento continua a cair, é um forte indicativo de overfitting.\n",
        "\n",
        "- No `scikit-learn's MLPClassifier`, o atributo `loss_curve_` armazena a loss de treinamento. Se `early_stopping=True` foi usado, `validation_scores_` armazena o score (e.g., acurácia) na validação. Para visualizar a loss de validação, precisamos converter o score em loss (e.g., `1 - acurácia`).\n"
      ],
      "metadata": {
        "id": "7kkAkUXoJABd"
      }
    },
    {
      "cell_type": "markdown",
      "source": [
        "\n",
        "##5. Conclusão\n",
        "Este notebook demonstrou como algoritmos evolutivos, especificamente um algoritmo genético implementado com `DEAP`, podem ser eficazmente utilizados para otimizar os hiperparâmetros de um `MLPClassifier` do `scikit-learn`. Essa abordagem permite uma busca mais inteligente no espaço de hiperparâmetros em comparação com métodos exaustivos, potencialmente levando a modelos com melhor desempenho e generalização.\n",
        "\n",
        "A importância de utilizar métricas de avaliação robustas como F1-score, Precisão e Recall, e a análise das curvas de loss, foi destacada para garantir uma compreensão completa do desempenho do modelo e para diagnosticar problemas como overfitting.\n",
        "\n",
        "Embora o custo computacional possa ser uma preocupação, a capacidade dos AEs de explorar espaços de busca complexos torna-os uma ferramenta valiosa no kit de ferramentas de otimização de machine learning, especialmente para problemas onde a escolha manual ou por busca exaustiva de hiperparâmetros é inviável."
      ],
      "metadata": {
        "id": "v2AMNUVyJDA6"
      }
    }
  ]
}