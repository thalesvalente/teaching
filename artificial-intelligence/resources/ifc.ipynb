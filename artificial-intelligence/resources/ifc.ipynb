{
 "cells": [
  {
   "cell_type": "code",
   "execution_count": null,
   "id": "47c4cf31",
   "metadata": {},
   "outputs": [
    {
     "name": "stdout",
     "output_type": "stream",
     "text": [
      "🔄 Iniciando o processo de importação do modelo IFC para o Neo4j...\n",
      "✅ Modelo carregado com 22 produtos IFC.\n",
      "📊 Grafo RDF gerado com 44 triplas.\n"
     ]
    },
    {
     "ename": "ClientError",
     "evalue": "[Statement.SyntaxError] Invalid input '-': expected a database name, '(', 'FOREACH', '.', 'ALTER', 'ORDER BY', 'CALL', 'CREATE', 'LOAD CSV', 'START DATABASE', 'STOP DATABASE', 'DEALLOCATE', 'DELETE', 'DENY', 'DETACH', 'DROP', 'DRYRUN', 'FINISH', 'GRANT', 'INSERT', 'LIMIT', 'MATCH', 'MERGE', 'NODETACH', 'OFFSET', 'OPTIONAL', 'REALLOCATE', 'REMOVE', 'RENAME', 'RETURN', 'REVOKE', 'ENABLE SERVER', 'SET', 'SHOW', 'SKIP', 'TERMINATE', 'UNION', 'UNWIND', 'USE', 'WITH' or <EOF> (line 1, column 8 (offset: 7))\r\n\"USE ifc-test MERGE (a:IFCElement {uri: $s}) MERGE (b:IFCElement {uri: $o}) MERGE (a)-[r:_22_rdf_syntax_ns_type]->(b)\"\r\n        ^",
     "output_type": "error",
     "traceback": [
      "\u001b[31m---------------------------------------------------------------------------\u001b[39m",
      "\u001b[31mClientError\u001b[39m                               Traceback (most recent call last)",
      "\u001b[36mCell\u001b[39m\u001b[36m \u001b[39m\u001b[32mIn[4]\u001b[39m\u001b[32m, line 45\u001b[39m\n\u001b[32m     43\u001b[39m \u001b[38;5;28;01mif\u001b[39;00m \u001b[38;5;28misinstance\u001b[39m(o, URIRef):\n\u001b[32m     44\u001b[39m     obj = Node(\u001b[33m\"\u001b[39m\u001b[33mIFCElement\u001b[39m\u001b[33m\"\u001b[39m, uri=\u001b[38;5;28mstr\u001b[39m(o))\n\u001b[32m---> \u001b[39m\u001b[32m45\u001b[39m     \u001b[43mgraph_db\u001b[49m\u001b[43m.\u001b[49m\u001b[43mrun\u001b[49m\u001b[43m(\u001b[49m\u001b[33;43mf\u001b[39;49m\u001b[33;43m\"\u001b[39;49m\u001b[33;43mUSE \u001b[39;49m\u001b[38;5;132;43;01m{\u001b[39;49;00m\u001b[43mNEO4J_DATABASE\u001b[49m\u001b[38;5;132;43;01m}\u001b[39;49;00m\u001b[33;43m \u001b[39;49m\u001b[33;43m\"\u001b[39;49m\n\u001b[32m     46\u001b[39m \u001b[43m                 \u001b[49m\u001b[33;43mf\u001b[39;49m\u001b[33;43m\"\u001b[39;49m\u001b[33;43mMERGE (a:IFCElement \u001b[39;49m\u001b[38;5;130;43;01m{{\u001b[39;49;00m\u001b[33;43muri: $s\u001b[39;49m\u001b[38;5;130;43;01m}}\u001b[39;49;00m\u001b[33;43m) \u001b[39;49m\u001b[33;43m\"\u001b[39;49m\n\u001b[32m     47\u001b[39m \u001b[43m                 \u001b[49m\u001b[33;43mf\u001b[39;49m\u001b[33;43m\"\u001b[39;49m\u001b[33;43mMERGE (b:IFCElement \u001b[39;49m\u001b[38;5;130;43;01m{{\u001b[39;49;00m\u001b[33;43muri: $o\u001b[39;49m\u001b[38;5;130;43;01m}}\u001b[39;49;00m\u001b[33;43m) \u001b[39;49m\u001b[33;43m\"\u001b[39;49m\n\u001b[32m     48\u001b[39m \u001b[43m                 \u001b[49m\u001b[33;43mf\u001b[39;49m\u001b[33;43m\"\u001b[39;49m\u001b[33;43mMERGE (a)-[r:\u001b[39;49m\u001b[38;5;132;43;01m{\u001b[39;49;00m\u001b[43mpred\u001b[49m\u001b[38;5;132;43;01m}\u001b[39;49;00m\u001b[33;43m]->(b)\u001b[39;49m\u001b[33;43m\"\u001b[39;49m\u001b[43m,\u001b[49m\u001b[43m \u001b[49m\u001b[43ms\u001b[49m\u001b[43m=\u001b[49m\u001b[38;5;28;43mstr\u001b[39;49m\u001b[43m(\u001b[49m\u001b[43ms\u001b[49m\u001b[43m)\u001b[49m\u001b[43m,\u001b[49m\u001b[43m \u001b[49m\u001b[43mo\u001b[49m\u001b[43m=\u001b[49m\u001b[38;5;28;43mstr\u001b[39;49m\u001b[43m(\u001b[49m\u001b[43mo\u001b[49m\u001b[43m)\u001b[49m\u001b[43m)\u001b[49m\n\u001b[32m     49\u001b[39m \u001b[38;5;28;01melse\u001b[39;00m:\n\u001b[32m     50\u001b[39m     graph_db.run(\u001b[33mf\u001b[39m\u001b[33m\"\u001b[39m\u001b[33mUSE \u001b[39m\u001b[38;5;132;01m{\u001b[39;00mNEO4J_DATABASE\u001b[38;5;132;01m}\u001b[39;00m\u001b[33m \u001b[39m\u001b[33m\"\u001b[39m\n\u001b[32m     51\u001b[39m                  \u001b[33mf\u001b[39m\u001b[33m\"\u001b[39m\u001b[33mMERGE (a:IFCElement \u001b[39m\u001b[38;5;130;01m{{\u001b[39;00m\u001b[33muri: $s\u001b[39m\u001b[38;5;130;01m}}\u001b[39;00m\u001b[33m) \u001b[39m\u001b[33m\"\u001b[39m\n\u001b[32m     52\u001b[39m                  \u001b[33mf\u001b[39m\u001b[33m\"\u001b[39m\u001b[33mSET a.\u001b[39m\u001b[38;5;132;01m{\u001b[39;00mpred\u001b[38;5;132;01m}\u001b[39;00m\u001b[33m = $o\u001b[39m\u001b[33m\"\u001b[39m, s=\u001b[38;5;28mstr\u001b[39m(s), o=\u001b[38;5;28mstr\u001b[39m(o))\n",
      "\u001b[36mFile \u001b[39m\u001b[32mc:\\Users\\selah\\anaconda3\\envs\\ifc\\Lib\\site-packages\\py2neo\\database.py:405\u001b[39m, in \u001b[36mGraph.run\u001b[39m\u001b[34m(self, cypher, parameters, **kwparameters)\u001b[39m\n\u001b[32m    395\u001b[39m \u001b[38;5;28;01mdef\u001b[39;00m\u001b[38;5;250m \u001b[39m\u001b[34mrun\u001b[39m(\u001b[38;5;28mself\u001b[39m, cypher, parameters=\u001b[38;5;28;01mNone\u001b[39;00m, **kwparameters):\n\u001b[32m    396\u001b[39m \u001b[38;5;250m    \u001b[39m\u001b[33;03m\"\"\" Run a single read/write query within an auto-commit\u001b[39;00m\n\u001b[32m    397\u001b[39m \u001b[33;03m    :class:`~py2neo.Transaction`.\u001b[39;00m\n\u001b[32m    398\u001b[39m \n\u001b[32m   (...)\u001b[39m\u001b[32m    403\u001b[39m \u001b[33;03m    :return:\u001b[39;00m\n\u001b[32m    404\u001b[39m \u001b[33;03m    \"\"\"\u001b[39;00m\n\u001b[32m--> \u001b[39m\u001b[32m405\u001b[39m     \u001b[38;5;28;01mreturn\u001b[39;00m \u001b[38;5;28;43mself\u001b[39;49m\u001b[43m.\u001b[49m\u001b[43mauto\u001b[49m\u001b[43m(\u001b[49m\u001b[43m)\u001b[49m\u001b[43m.\u001b[49m\u001b[43mrun\u001b[49m\u001b[43m(\u001b[49m\u001b[43mcypher\u001b[49m\u001b[43m,\u001b[49m\u001b[43m \u001b[49m\u001b[43mparameters\u001b[49m\u001b[43m,\u001b[49m\u001b[43m \u001b[49m\u001b[43m*\u001b[49m\u001b[43m*\u001b[49m\u001b[43mkwparameters\u001b[49m\u001b[43m)\u001b[49m\n",
      "\u001b[36mFile \u001b[39m\u001b[32mc:\\Users\\selah\\anaconda3\\envs\\ifc\\Lib\\site-packages\\py2neo\\database.py:992\u001b[39m, in \u001b[36mTransaction.run\u001b[39m\u001b[34m(self, cypher, parameters, **kwparameters)\u001b[39m\n\u001b[32m    988\u001b[39m     \u001b[38;5;28;01melse\u001b[39;00m:\n\u001b[32m    989\u001b[39m         result = \u001b[38;5;28mself\u001b[39m._connector.auto_run(cypher, parameters,\n\u001b[32m    990\u001b[39m                                           graph_name=\u001b[38;5;28mself\u001b[39m.graph.name,\n\u001b[32m    991\u001b[39m                                           readonly=\u001b[38;5;28mself\u001b[39m.readonly)\n\u001b[32m--> \u001b[39m\u001b[32m992\u001b[39m     \u001b[38;5;28;43mself\u001b[39;49m\u001b[43m.\u001b[49m\u001b[43m_connector\u001b[49m\u001b[43m.\u001b[49m\u001b[43mpull\u001b[49m\u001b[43m(\u001b[49m\u001b[43mresult\u001b[49m\u001b[43m,\u001b[49m\u001b[43m \u001b[49m\u001b[43m-\u001b[49m\u001b[32;43m1\u001b[39;49m\u001b[43m)\u001b[49m\n\u001b[32m    993\u001b[39m     \u001b[38;5;28;01mreturn\u001b[39;00m Cursor(result, hydrant)\n\u001b[32m    994\u001b[39m \u001b[38;5;28;01mfinally\u001b[39;00m:\n",
      "\u001b[36mFile \u001b[39m\u001b[32mc:\\Users\\selah\\anaconda3\\envs\\ifc\\Lib\\site-packages\\py2neo\\client\\__init__.py:1434\u001b[39m, in \u001b[36mConnector.pull\u001b[39m\u001b[34m(self, result, n)\u001b[39m\n\u001b[32m   1432\u001b[39m cx = \u001b[38;5;28mself\u001b[39m._reacquire(result.transaction)\n\u001b[32m   1433\u001b[39m \u001b[38;5;28;01mtry\u001b[39;00m:\n\u001b[32m-> \u001b[39m\u001b[32m1434\u001b[39m     \u001b[43mcx\u001b[49m\u001b[43m.\u001b[49m\u001b[43mpull\u001b[49m\u001b[43m(\u001b[49m\u001b[43mresult\u001b[49m\u001b[43m,\u001b[49m\u001b[43m \u001b[49m\u001b[43mn\u001b[49m\u001b[43m=\u001b[49m\u001b[43mn\u001b[49m\u001b[43m)\u001b[49m\n\u001b[32m   1435\u001b[39m \u001b[38;5;28;01mexcept\u001b[39;00m (ConnectionUnavailable, ConnectionBroken):\n\u001b[32m   1436\u001b[39m     \u001b[38;5;28mself\u001b[39m.prune(cx.profile)\n",
      "\u001b[36mFile \u001b[39m\u001b[32mc:\\Users\\selah\\anaconda3\\envs\\ifc\\Lib\\site-packages\\py2neo\\client\\bolt.py:1001\u001b[39m, in \u001b[36mBolt4x0.pull\u001b[39m\u001b[34m(self, result, n, capacity)\u001b[39m\n\u001b[32m    998\u001b[39m     raise_from(ConnectionBroken(\u001b[33m\"\u001b[39m\u001b[33mTransaction broken by disconnection \u001b[39m\u001b[33m\"\u001b[39m\n\u001b[32m    999\u001b[39m                                 \u001b[33m\"\u001b[39m\u001b[33mduring pull\u001b[39m\u001b[33m\"\u001b[39m), error)\n\u001b[32m   1000\u001b[39m \u001b[38;5;28;01melse\u001b[39;00m:\n\u001b[32m-> \u001b[39m\u001b[32m1001\u001b[39m     \u001b[38;5;28;43mself\u001b[39;49m\u001b[43m.\u001b[49m\u001b[43m_audit\u001b[49m\u001b[43m(\u001b[49m\u001b[38;5;28;43mself\u001b[39;49m\u001b[43m.\u001b[49m\u001b[43m_transaction\u001b[49m\u001b[43m)\u001b[49m\n\u001b[32m   1002\u001b[39m     \u001b[38;5;28;01mreturn\u001b[39;00m response\n",
      "\u001b[36mFile \u001b[39m\u001b[32mc:\\Users\\selah\\anaconda3\\envs\\ifc\\Lib\\site-packages\\py2neo\\client\\bolt.py:810\u001b[39m, in \u001b[36mBolt1._audit\u001b[39m\u001b[34m(self, task)\u001b[39m\n\u001b[32m    808\u001b[39m     \u001b[38;5;28;01mreturn\u001b[39;00m\n\u001b[32m    809\u001b[39m \u001b[38;5;28;01mtry\u001b[39;00m:\n\u001b[32m--> \u001b[39m\u001b[32m810\u001b[39m     \u001b[43mtask\u001b[49m\u001b[43m.\u001b[49m\u001b[43maudit\u001b[49m\u001b[43m(\u001b[49m\u001b[43m)\u001b[49m\n\u001b[32m    811\u001b[39m \u001b[38;5;28;01mexcept\u001b[39;00m Neo4jError:\n\u001b[32m    812\u001b[39m     \u001b[38;5;28mself\u001b[39m.reset(force=\u001b[38;5;28;01mTrue\u001b[39;00m)\n",
      "\u001b[36mFile \u001b[39m\u001b[32mc:\\Users\\selah\\anaconda3\\envs\\ifc\\Lib\\site-packages\\py2neo\\client\\bolt.py:1140\u001b[39m, in \u001b[36mItemizedTask.audit\u001b[39m\u001b[34m(self)\u001b[39m\n\u001b[32m   1138\u001b[39m \u001b[38;5;28;01mdef\u001b[39;00m\u001b[38;5;250m \u001b[39m\u001b[34maudit\u001b[39m(\u001b[38;5;28mself\u001b[39m):\n\u001b[32m   1139\u001b[39m     \u001b[38;5;28;01mfor\u001b[39;00m item \u001b[38;5;129;01min\u001b[39;00m \u001b[38;5;28mself\u001b[39m._items:\n\u001b[32m-> \u001b[39m\u001b[32m1140\u001b[39m         \u001b[43mitem\u001b[49m\u001b[43m.\u001b[49m\u001b[43maudit\u001b[49m\u001b[43m(\u001b[49m\u001b[43m)\u001b[49m\n",
      "\u001b[36mFile \u001b[39m\u001b[32mc:\\Users\\selah\\anaconda3\\envs\\ifc\\Lib\\site-packages\\py2neo\\client\\bolt.py:1140\u001b[39m, in \u001b[36mItemizedTask.audit\u001b[39m\u001b[34m(self)\u001b[39m\n\u001b[32m   1138\u001b[39m \u001b[38;5;28;01mdef\u001b[39;00m\u001b[38;5;250m \u001b[39m\u001b[34maudit\u001b[39m(\u001b[38;5;28mself\u001b[39m):\n\u001b[32m   1139\u001b[39m     \u001b[38;5;28;01mfor\u001b[39;00m item \u001b[38;5;129;01min\u001b[39;00m \u001b[38;5;28mself\u001b[39m._items:\n\u001b[32m-> \u001b[39m\u001b[32m1140\u001b[39m         \u001b[43mitem\u001b[49m\u001b[43m.\u001b[49m\u001b[43maudit\u001b[49m\u001b[43m(\u001b[49m\u001b[43m)\u001b[49m\n",
      "\u001b[36mFile \u001b[39m\u001b[32mc:\\Users\\selah\\anaconda3\\envs\\ifc\\Lib\\site-packages\\py2neo\\client\\bolt.py:1303\u001b[39m, in \u001b[36mBoltResponse.audit\u001b[39m\u001b[34m(self)\u001b[39m\n\u001b[32m   1301\u001b[39m \u001b[38;5;28;01mif\u001b[39;00m \u001b[38;5;28mself\u001b[39m._failure:\n\u001b[32m   1302\u001b[39m     \u001b[38;5;28mself\u001b[39m.set_ignored()\n\u001b[32m-> \u001b[39m\u001b[32m1303\u001b[39m     \u001b[38;5;28;01mraise\u001b[39;00m \u001b[38;5;28mself\u001b[39m._failure\n",
      "\u001b[31mClientError\u001b[39m: [Statement.SyntaxError] Invalid input '-': expected a database name, '(', 'FOREACH', '.', 'ALTER', 'ORDER BY', 'CALL', 'CREATE', 'LOAD CSV', 'START DATABASE', 'STOP DATABASE', 'DEALLOCATE', 'DELETE', 'DENY', 'DETACH', 'DROP', 'DRYRUN', 'FINISH', 'GRANT', 'INSERT', 'LIMIT', 'MATCH', 'MERGE', 'NODETACH', 'OFFSET', 'OPTIONAL', 'REALLOCATE', 'REMOVE', 'RENAME', 'RETURN', 'REVOKE', 'ENABLE SERVER', 'SET', 'SHOW', 'SKIP', 'TERMINATE', 'UNION', 'UNWIND', 'USE', 'WITH' or <EOF> (line 1, column 8 (offset: 7))\r\n\"USE ifc-test MERGE (a:IFCElement {uri: $s}) MERGE (b:IFCElement {uri: $o}) MERGE (a)-[r:_22_rdf_syntax_ns_type]->(b)\"\r\n        ^"
     ]
    }
   ],
   "source": [
    "import ifcopenshell\n",
    "from rdflib import Graph, Namespace, URIRef, Literal, RDF\n",
    "from py2neo import Graph as Neo4jGraph, Node, Relationship\n",
    "import re\n",
    "\n",
    "# === CONFIGURAÇÕES ===\n",
    "IFC_FILE = \"C:\\\\Users\\\\selah\\\\Downloads\\\\Building-Architecture.ifc\"  # substitua pelo caminho do seu arquivo IFC\n",
    "NEO4J_URI = \"bolt://localhost:7687\"\n",
    "NEO4J_USER = \"neo4j\"\n",
    "NEO4J_PASSWORD = \"test-ifc\"\n",
    "NEO4J_DATABASE = \"ifctest\"\n",
    "\n",
    "print(\"🔄 Iniciando o processo de importação do modelo IFC para o Neo4j...\")\n",
    "\n",
    "# === CONECTAR AO BANCO ===\n",
    "graph_db = Neo4jGraph(NEO4J_URI, auth=(NEO4J_USER, NEO4J_PASSWORD))\n",
    "\n",
    "# === CARREGAR O MODELO IFC ===\n",
    "model = ifcopenshell.open(IFC_FILE)\n",
    "produtos = model.by_type(\"IfcProduct\")\n",
    "print(f\"✅ Modelo carregado com {len(produtos)} produtos IFC.\")\n",
    "\n",
    "# === CRIAR GRAFO RDF COM DADOS BÁSICOS ===\n",
    "ns = Namespace(\"http://example.org/ifc/\")\n",
    "rdf_graph = Graph()\n",
    "\n",
    "for element in produtos:\n",
    "    if not element.GlobalId:\n",
    "        continue\n",
    "\n",
    "    uri = URIRef(ns[element.GlobalId])\n",
    "    rdf_graph.add((uri, RDF.type, URIRef(ns[element.is_a()])))\n",
    "    if element.Name:\n",
    "        rdf_graph.add((uri, ns[\"name\"], Literal(element.Name)))\n",
    "\n",
    "print(f\"📊 Grafo RDF gerado com {len(rdf_graph)} triplas.\")\n",
    "\n",
    "# === ENVIAR PARA O NEO4J (BANCO 'ifc-test') ===\n",
    "for s, p, o in rdf_graph:\n",
    "    subj = Node(\"IFCElement\", uri=str(s))\n",
    "    pred = re.sub(r'\\W|^(?=\\d)', '_', str(p).split(\"/\")[-1])\n",
    "\n",
    "    if isinstance(o, URIRef):\n",
    "        obj = Node(\"IFCElement\", uri=str(o))\n",
    "        graph_db.run(f\"USE {NEO4J_DATABASE} \"\n",
    "                     f\"MERGE (a:IFCElement {{uri: $s}}) \"\n",
    "                     f\"MERGE (b:IFCElement {{uri: $o}}) \"\n",
    "                     f\"MERGE (a)-[r:{pred}]->(b)\", s=str(s), o=str(o))\n",
    "    else:\n",
    "        graph_db.run(f\"USE {NEO4J_DATABASE} \"\n",
    "                     f\"MERGE (a:IFCElement {{uri: $s}}) \"\n",
    "                     f\"SET a.{pred} = $o\", s=str(s), o=str(o))\n",
    "\n",
    "print(\"✅ Grafo carregado no banco `ifc-test` com sucesso!\")"
   ]
  }
 ],
 "metadata": {
  "kernelspec": {
   "display_name": "ifc",
   "language": "python",
   "name": "python3"
  },
  "language_info": {
   "codemirror_mode": {
    "name": "ipython",
    "version": 3
   },
   "file_extension": ".py",
   "mimetype": "text/x-python",
   "name": "python",
   "nbconvert_exporter": "python",
   "pygments_lexer": "ipython3",
   "version": "3.12.10"
  }
 },
 "nbformat": 4,
 "nbformat_minor": 5
}
