{
  "nbformat": 4,
  "nbformat_minor": 0,
  "metadata": {
    "colab": {
      "provenance": []
    },
    "kernelspec": {
      "name": "python3",
      "display_name": "Python 3"
    },
    "language_info": {
      "name": "python"
    }
  },
  "cells": [
    {
      "cell_type": "markdown",
      "source": [
        "###Código 1 - Máquina de Turing\n",
        "Autômato com Implementação de Pilha\n",
        "Um autômato de pilha é um tipo de autômato que, além dos estados, também possui uma pilha que pode ser usada para armazenar e recuperar símbolos. Ele é mais poderoso do que um autômato finito, pois pode reconhecer linguagens context-free.\n"
      ],
      "metadata": {
        "id": "-Cbi7qkiS3UB"
      }
    },
    {
      "cell_type": "code",
      "execution_count": null,
      "metadata": {
        "colab": {
          "base_uri": "https://localhost:8080/"
        },
        "id": "HtcxMvuhSvJJ",
        "outputId": "be2fe08f-2093-4d59-ef51-e5eac8c55f89"
      },
      "outputs": [
        {
          "output_type": "stream",
          "name": "stdout",
          "text": [
            "Fita final: 1110\n",
            "Estado final: q_accept\n"
          ]
        }
      ],
      "source": [
        "class TuringMachine:\n",
        "    def __init__(self, tape, initial_state, accepting_states, transitions):\n",
        "        self.tape = list(tape)\n",
        "        self.head_position = 0\n",
        "        self.current_state = initial_state\n",
        "        self.accepting_states = accepting_states\n",
        "        self.transitions = transitions\n",
        "\n",
        "    def step(self):\n",
        "        if self.current_state in self.accepting_states:\n",
        "            return False\n",
        "        current_symbol = self.tape[self.head_position]\n",
        "        action = self.transitions.get((self.current_state, current_symbol))\n",
        "        if action is None:\n",
        "            return False\n",
        "        new_state, new_symbol, direction = action\n",
        "        self.tape[self.head_position] = new_symbol\n",
        "        self.current_state = new_state\n",
        "        if direction == 'R':\n",
        "            self.head_position += 1\n",
        "        elif direction == 'L':\n",
        "            self.head_position -= 1\n",
        "        return True\n",
        "\n",
        "    def run(self):\n",
        "        while self.step():\n",
        "            pass\n",
        "        return ''.join(self.tape), self.current_state\n",
        "\n",
        "# Exemplo de uso\n",
        "tape = \"0110\"\n",
        "initial_state = \"q0\"\n",
        "accepting_states = {\"q_accept\"}\n",
        "transitions = {\n",
        "    (\"q0\", \"0\"): (\"q1\", \"1\", \"R\"),\n",
        "    (\"q1\", \"1\"): (\"q_accept\", \"1\", \"R\"),\n",
        "    # Adicione mais transições conforme necessário\n",
        "}\n",
        "\n",
        "tm = TuringMachine(tape, initial_state, accepting_states, transitions)\n",
        "result_tape, final_state = tm.run()\n",
        "print(f\"Fita final: {result_tape}\")\n",
        "print(f\"Estado final: {final_state}\")"
      ]
    },
    {
      "cell_type": "code",
      "source": [
        "class StackAutomaton:\n",
        "    def __init__(self, initial_state, accepting_states, transitions):\n",
        "        self.stack = []\n",
        "        self.current_state = initial_state\n",
        "        self.accepting_states = accepting_states\n",
        "        self.transitions = transitions\n",
        "\n",
        "    def step(self, input_symbol):\n",
        "        action = self.transitions.get((self.current_state, input_symbol, self.stack[-1] if self.stack else None))\n",
        "        if action is None:\n",
        "            return False\n",
        "        new_state, stack_action, stack_symbol = action\n",
        "        self.current_state = new_state\n",
        "        if stack_action == \"PUSH\":\n",
        "            self.stack.append(stack_symbol)\n",
        "        elif stack_action == \"POP\":\n",
        "            self.stack.pop()\n",
        "        return True\n",
        "\n",
        "    def run(self, input_string):\n",
        "        for symbol in input_string:\n",
        "            if not self.step(symbol):\n",
        "                return False\n",
        "        return self.current_state in self.accepting_states\n",
        "\n",
        "# Exemplo de uso\n",
        "initial_state = \"q0\"\n",
        "accepting_states = {\"q_accept\"}\n",
        "transitions = {\n",
        "    (\"q0\", \"a\", None): (\"q1\", \"PUSH\", \"A\"),\n",
        "    (\"q1\", \"b\", \"A\"): (\"q_accept\", \"POP\", None),\n",
        "    # Adicione mais transições conforme necessário\n",
        "}\n",
        "\n",
        "sa = StackAutomaton(initial_state, accepting_states, transitions)\n",
        "input_string = \"ab\"\n",
        "is_accepted = sa.run(input_string)\n",
        "print(f\"A entrada '{input_string}' foi {'aceita' if is_accepted else 'rejeitada'} pelo autômato de pilha.\")"
      ],
      "metadata": {
        "colab": {
          "base_uri": "https://localhost:8080/"
        },
        "id": "bP0j-RepTNSw",
        "outputId": "df2548c4-46da-40f2-cbe8-63a7f2902ddb"
      },
      "execution_count": null,
      "outputs": [
        {
          "output_type": "stream",
          "name": "stdout",
          "text": [
            "A entrada 'ab' foi aceita pelo autômato de pilha.\n"
          ]
        }
      ]
    },
    {
      "cell_type": "markdown",
      "source": [
        "###Código 2 - Máquina de Turing\n",
        "Exemplo de Máquina de Turing para aceitar a linguagem a^n b^n (n >= 1)\n",
        "Isso significa que a Máquina de Turing aceitará strings com um número igual de 'a's seguidos por um número igual de 'b's, como aabb, aaabbb, etc."
      ],
      "metadata": {
        "id": "brElwXjwTa-Q"
      }
    },
    {
      "cell_type": "code",
      "source": [
        "class TuringMachine:\n",
        "    def __init__(self, tape, initial_state, accepting_states, transitions):\n",
        "        self.tape = list(tape) + [' '] * 100  # Adicionando espaço extra na fita\n",
        "        self.head_position = 0\n",
        "        self.current_state = initial_state\n",
        "        self.accepting_states = accepting_states\n",
        "        self.transitions = transitions\n",
        "\n",
        "    def step(self):\n",
        "        if self.current_state in self.accepting_states:\n",
        "            return False\n",
        "        current_symbol = self.tape[self.head_position]\n",
        "        action = self.transitions.get((self.current_state, current_symbol))\n",
        "        if action is None:\n",
        "            return False\n",
        "        new_state, new_symbol, direction = action\n",
        "        self.tape[self.head_position] = new_symbol\n",
        "        self.current_state = new_state\n",
        "        if direction == 'R':\n",
        "            self.head_position += 1\n",
        "        elif direction == 'L':\n",
        "            self.head_position -= 1\n",
        "        return True\n",
        "\n",
        "    def run(self):\n",
        "        while self.step():\n",
        "            pass\n",
        "        return ''.join(self.tape), self.current_state\n",
        "\n",
        "# Exemplo de uso\n",
        "tape = \"aaabbb\"\n",
        "initial_state = \"q0\"\n",
        "accepting_states = {\"q_accept\"}\n",
        "transitions = {\n",
        "    (\"q0\", \"a\"): (\"q1\", \"X\", \"R\"),\n",
        "    (\"q1\", \"a\"): (\"q1\", \"a\", \"R\"),\n",
        "    (\"q1\", \"b\"): (\"q2\", \"Y\", \"L\"),\n",
        "    (\"q2\", \"a\"): (\"q2\", \"a\", \"L\"),\n",
        "    (\"q2\", \"X\"): (\"q0\", \"X\", \"R\"),\n",
        "    (\"q1\", \"Y\"): (\"q1\", \"Y\", \"R\"),\n",
        "    (\"q1\", \" \"): (\"q_accept\", \" \", \"N\"),\n",
        "    # Adicione mais transições conforme necessário\n",
        "}\n",
        "\n",
        "tm = TuringMachine(tape, initial_state, accepting_states, transitions)\n",
        "result_tape, final_state = tm.run()\n",
        "print(f\"Fita final: {result_tape.strip()}\")\n",
        "print(f\"Estado final: {final_state}\")"
      ],
      "metadata": {
        "colab": {
          "base_uri": "https://localhost:8080/"
        },
        "id": "9P2xLpxCTfaP",
        "outputId": "5591a470-5692-4811-b5fe-a7d7c022b388"
      },
      "execution_count": null,
      "outputs": [
        {
          "output_type": "stream",
          "name": "stdout",
          "text": [
            "Fita final: XXaYYb\n",
            "Estado final: q2\n"
          ]
        }
      ]
    },
    {
      "cell_type": "markdown",
      "source": [
        "Para o exemplo acima, o grafo seria:\n",
        "\n",
        "q0 --a--> q1 (PUSH A)\n",
        "\n",
        "q1 --a--> q1 (PUSH A)\n",
        "\n",
        "q1 --b--> q2 (POP)\n",
        "\n",
        "q2 --b--> q2 (POP)\n",
        "\n",
        "q2 --ε--> q_accept\n",
        "\n",
        "Agora, expandindo o exemplo do Autômato de Pilha para recusar uma entrada não pertencente a linguagem a^n b^n (n >= 1)."
      ],
      "metadata": {
        "id": "YYBgMtIzTj3w"
      }
    },
    {
      "cell_type": "code",
      "source": [
        "class StackAutomaton:\n",
        "    def __init__(self, initial_state, accepting_states, transitions):\n",
        "        self.stack = []\n",
        "        self.current_state = initial_state\n",
        "        self.accepting_states = accepting_states\n",
        "        self.transitions = transitions\n",
        "\n",
        "    def step(self, input_symbol):\n",
        "        top_symbol = self.stack[-1] if self.stack else None\n",
        "        action = self.transitions.get((self.current_state, input_symbol, top_symbol))\n",
        "        if action is None:\n",
        "            return False\n",
        "        new_state, stack_action, stack_symbol = action\n",
        "        self.current_state = new_state\n",
        "        if stack_action == \"PUSH\":\n",
        "            self.stack.append(stack_symbol)\n",
        "        elif stack_action == \"POP\":\n",
        "            self.stack.pop()\n",
        "        return True\n",
        "\n",
        "    def run(self, input_string):\n",
        "        for symbol in input_string:\n",
        "            if not self.step(symbol):\n",
        "                return False\n",
        "        return self.current_state in self.accepting_states and not self.stack\n",
        "\n",
        "# Exemplo de uso\n",
        "initial_state = \"q0\"\n",
        "accepting_states = {\"q_accept\"}\n",
        "transitions = {\n",
        "    (\"q0\", \"a\", None): (\"q1\", \"PUSH\", \"A\"),\n",
        "    (\"q1\", \"a\", \"A\"): (\"q1\", \"PUSH\", \"A\"),\n",
        "    (\"q1\", \"b\", \"A\"): (\"q2\", \"POP\", None),\n",
        "    (\"q2\", \"b\", \"A\"): (\"q2\", \"POP\", None),\n",
        "    (\"q2\", None, None): (\"q_accept\", None, None),\n",
        "    # Adicione mais transições conforme necessário\n",
        "}\n",
        "\n",
        "sa = StackAutomaton(initial_state, accepting_states, transitions)\n",
        "input_string = \"aaabbb\"\n",
        "is_accepted = sa.run(input_string)\n",
        "print(f\"A entrada '{input_string}' foi {'aceita' if is_accepted else 'rejeitada'} pelo autômato de pilha.\")"
      ],
      "metadata": {
        "colab": {
          "base_uri": "https://localhost:8080/"
        },
        "id": "ABBIyMVPTo0A",
        "outputId": "e3fefd8a-f7c4-45a0-d9dd-c70c29f8176b"
      },
      "execution_count": null,
      "outputs": [
        {
          "output_type": "stream",
          "name": "stdout",
          "text": [
            "A entrada 'aaabbb' foi rejeitada pelo autômato de pilha.\n"
          ]
        }
      ]
    },
    {
      "cell_type": "markdown",
      "source": [
        "Grafo do Autômato de Pilha\n",
        "Para o exemplo acima, o grafo seria:\n",
        "\n",
        "q0 --a--> q1 (PUSH A)\n",
        "\n",
        "q1 --a--> q1 (PUSH A)\n",
        "\n",
        "q1 --b--> q2 (POP)\n",
        "\n",
        "q2 --b--> q2 (POP)\n",
        "\n",
        "q2 --ε--> q_accept"
      ],
      "metadata": {
        "id": "A_QnZMLzTvZn"
      }
    },
    {
      "cell_type": "code",
      "source": [
        "from PIL import Image, ImageDraw, ImageFont\n",
        "from IPython.display import display\n",
        "import PIL.Image\n",
        "\n",
        "# Instalando a fonte no Google Colab (se necessário)\n",
        "!apt-get install -y fonts-dejavu\n",
        "\n",
        "class TuringMachine:\n",
        "    def __init__(self, tape, initial_state, accepting_states, transitions):\n",
        "        self.tape = list(tape) + [' '] * 100  # Adicionando espaço extra na fita\n",
        "        self.head_position = 0\n",
        "        self.current_state = initial_state\n",
        "        self.accepting_states = accepting_states\n",
        "        self.transitions = transitions\n",
        "        self.frames = []\n",
        "\n",
        "        # Carregando uma fonte TTF válida\n",
        "        self.font = ImageFont.truetype(\"/usr/share/fonts/truetype/dejavu/DejaVuSans-Bold.ttf\", 20)\n",
        "\n",
        "    def draw_tape(self):\n",
        "        width, height = 600, 100\n",
        "        img = Image.new('RGB', (width, height), color='white')\n",
        "        d = ImageDraw.Draw(img)\n",
        "\n",
        "        tape_str = ''.join(self.tape).strip()\n",
        "        head_str = ' ' * self.head_position + '^'\n",
        "\n",
        "        d.text((10, 20), tape_str, font=self.font, fill=(0, 0, 0))\n",
        "        d.text((10, 40), head_str, font=self.font, fill=(255, 0, 0))\n",
        "        d.text((10, 60), f\"State: {self.current_state}\", font=self.font, fill=(0, 0, 255))\n",
        "\n",
        "        self.frames.append(img)\n",
        "\n",
        "    def step(self):\n",
        "        self.draw_tape()\n",
        "        if self.current_state in self.accepting_states:\n",
        "            return False\n",
        "        current_symbol = self.tape[self.head_position]\n",
        "        action = self.transitions.get((self.current_state, current_symbol))\n",
        "        if action is None:\n",
        "            return False\n",
        "        new_state, new_symbol, direction = action\n",
        "        self.tape[self.head_position] = new_symbol\n",
        "        self.current_state = new_state\n",
        "        if direction == 'R':\n",
        "            self.head_position += 1\n",
        "        elif direction == 'L':\n",
        "            self.head_position -= 1\n",
        "        return True\n",
        "\n",
        "    def run(self):\n",
        "        while self.step():\n",
        "            pass\n",
        "        self.draw_tape()\n",
        "\n",
        "        # Verificando se os frames foram gerados\n",
        "        if len(self.frames) > 0:\n",
        "            self.frames[0].save('/content/turing_machine.gif', save_all=True, append_images=self.frames[1:], loop=0, duration=500)\n",
        "            print(f\"GIF salvo com {len(self.frames)} frames!\")\n",
        "        else:\n",
        "            print(\"Erro: Nenhum frame foi gerado!\")\n",
        "\n",
        "# Exemplo de uso\n",
        "tape = \"aaabbb\"\n",
        "initial_state = \"q0\"\n",
        "accepting_states = {\"q_accept\"}\n",
        "transitions = {\n",
        "    (\"q0\", \"a\"): (\"q1\", \"X\", \"R\"),\n",
        "    (\"q1\", \"a\"): (\"q1\", \"a\", \"R\"),\n",
        "    (\"q1\", \"b\"): (\"q2\", \"Y\", \"L\"),\n",
        "    (\"q2\", \"a\"): (\"q2\", \"a\", \"L\"),\n",
        "    (\"q2\", \"X\"): (\"q0\", \"X\", \"R\"),\n",
        "    (\"q1\", \"Y\"): (\"q1\", \"Y\", \"R\"),\n",
        "    (\"q1\", \" \"): (\"q_accept\", \" \", \"N\"),\n",
        "}\n",
        "\n",
        "tm = TuringMachine(tape, initial_state, accepting_states, transitions)\n",
        "tm.run()\n",
        "\n",
        "# Exibir o GIF no Colab\n",
        "display(PIL.Image.open(\"/content/turing_machine.gif\"))\n"
      ],
      "metadata": {
        "colab": {
          "base_uri": "https://localhost:8080/",
          "height": 226
        },
        "id": "H5YOPqE-TwhQ",
        "outputId": "c18bde83-5ddc-4be0-e49d-d4602e0a96f6"
      },
      "execution_count": null,
      "outputs": [
        {
          "output_type": "stream",
          "name": "stdout",
          "text": [
            "Reading package lists... Done\n",
            "Building dependency tree... Done\n",
            "Reading state information... Done\n",
            "fonts-dejavu is already the newest version (2.37-2build1).\n",
            "0 upgraded, 0 newly installed, 0 to remove and 20 not upgraded.\n",
            "GIF salvo com 13 frames!\n"
          ]
        },
        {
          "output_type": "display_data",
          "data": {
            "text/plain": [
              "<PIL.GifImagePlugin.GifImageFile image mode=P size=600x100>"
            ],
            "image/png": "[encoded data removed]"
          },
          "metadata": {}
        }
      ]
    }
  ]
}