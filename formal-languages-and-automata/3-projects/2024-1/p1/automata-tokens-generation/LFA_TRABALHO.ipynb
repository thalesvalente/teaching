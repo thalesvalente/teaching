{
  "nbformat": 4,
  "nbformat_minor": 0,
  "metadata": {
    "colab": {
      "provenance": []
    },
    "kernelspec": {
      "name": "python3",
      "display_name": "Python 3"
    },
    "language_info": {
      "name": "python"
    }
  },
  "cells": [
    {
      "cell_type": "code",
      "source": [
        "import random\n",
        "import string\n",
        "\n",
        "  ### Criando regras de produção\n",
        "  # nome 2 letra (* tamanho da palavra 8)\n",
        "  #S  =  S1 -> [1l]S2 | 0S1 | 1S1 | 2S1 | 3S1 | 4S1 | 5S1 | 6S1 | 7S1 | 8S1 | 9S1 | 0S8 | 1S8 | 2S8 | 3S8 | 4S8 | 5S8 | 6S8 | 7S8 | 8S8 | 9S8\n",
        "  #S  =  [1l]S2 -> [2l]S8 | [2l]S1 | [2l]\n",
        "  #S =   ...   S8 -> 0 | 1 | 2 | 3 | 4 | 5 | 6 | 7 | 8 | 9\n",
        "\n",
        "\n",
        "# Função alfabeto\n",
        "def alfa(palavra):\n",
        "    # Inicializa um conjunto para armazenar letras únicas\n",
        "    letras_unicas = set()\n",
        "\n",
        "    # Adiciona cada letra única ao conjunto\n",
        "    for letra in palavra:\n",
        "        if letra.isalpha():  # Verifica se é uma letra\n",
        "            letras_unicas.add(letra)\n",
        "\n",
        "    # Inicializa uma lista com as letras únicas\n",
        "    lista = list(letras_unicas)\n",
        "\n",
        "    # Adiciona os dígitos unitários de 0 a 9 à lista\n",
        "    for i in range(10):\n",
        "        lista.append(str(i))\n",
        "\n",
        "    return lista\n",
        "\n",
        "\n",
        "# Gera aleatoriamente duas letras maiúsculas\n",
        "letra1 = random.choice(string.ascii_uppercase)\n",
        "letra2 = random.choice(string.ascii_uppercase)\n",
        "\n",
        "# Concatena as duas letras para formar a palavra\n",
        "palavra = letra1 + letra2\n",
        "\n",
        "\n",
        "# Alfabeto\n",
        "alfabeto = alfa(palavra)\n",
        "\n",
        "\n",
        "# Terminal inicial S1\n",
        "termo = 'S1'\n",
        "for x in range(0, 8):  # Loop que executa 8 iterações\n",
        "    if (len(termo) < 9 and 'S1' in termo):  # Verifica se 'S1' está presente no termo e se o comprimento do termo é menor que 9\n",
        "        lista_S1 = [palavra[0] + 'S2', '0S1', '1S1', '2S1', '3S1', '4S1', '5S1', '6S1', '7S1', '8S1', '9S1', '0S8', '1S8', '2S8', '3S8', '4S8', '5S8', '6S8', '7S8', '8S8', '9S8']  # Cria uma lista de strings com várias combinações de 'S1' e outros caracteres\n",
        "        if (len(termo) <= 7):  # Verifica se o comprimento do termo é menor ou igual a 7\n",
        "            termo = termo.replace( 'S1', random.choice(lista_S1[0:11]))  # Substitui 'S1' no termo por uma seleção aleatória da lista_S1 de índices 0 a 10\n",
        "        else:\n",
        "            termo = termo.replace( 'S1', random.choice(lista_S1[11:-1]))  # Substitui 'S1' no termo por uma seleção aleatória da lista_S1 de índices 11 até o penúltimo elemento\n",
        "    elif (len(termo) < 9 and 'S2' in termo):  # Verifica se 'S2' está presente no termo e se o comprimento do termo é menor que 9\n",
        "        lista_S2 = [palavra[1] + 'S8', palavra[1] + 'S1', palavra[1]]  # Cria uma lista de strings com várias combinações de 'S2' e o segundo caractere da palavra\n",
        "        if (len(termo) == 9):  # Verifica se o comprimento do termo é igual a 9\n",
        "            termo = termo.replace('S2', palavra[1])  # Substitui 'S2' no termo pelo segundo caractere da palavra\n",
        "        elif (len(termo) == 8):  # Verifica se o comprimento do termo é igual a 8\n",
        "            termo = termo.replace('S2', palavra[1] + 'S8')  # Substitui 'S2' no termo pelo segundo caractere da palavra seguido de 'S8'\n",
        "        else:\n",
        "            termo = termo.replace('S2', palavra[1] + 'S1')  # Substitui 'S2' no termo pelo segundo caractere da palavra seguido de 'S1'\n",
        "    elif (len(termo) == 9):  # Verifica se o comprimento do termo é igual a 9\n",
        "        lista_S3 = ['1','2', '3', '4', '5', '6', '7', '8', '9']  # Cria uma lista de strings com números de 1 a 9\n",
        "        termo = termo.replace('S8', random.choice(lista_S3))  # Substitui 'S8' no termo por uma seleção aleatória da lista_S3\n",
        "\n",
        "    print(termo)  # Imprime o termo atualizado a cada iteração do loop\n",
        "\n",
        "print(f'Letras: {palavra}')\n",
        "print(f'Alfabeto: {alfabeto}')\n",
        "print(f'Token: {termo}')"
      ],
      "metadata": {
        "colab": {
          "base_uri": "https://localhost:8080/"
        },
        "id": "xAeFUbosmAXr",
        "outputId": "f6111e54-4e95-4b18-d878-397187c99564"
      },
      "execution_count": null,
      "outputs": [
        {
          "output_type": "stream",
          "name": "stdout",
          "text": [
            "8S1\n",
            "88S1\n",
            "884S1\n",
            "884OS2\n",
            "884OYS1\n",
            "884OY5S1\n",
            "884OY57S8\n",
            "884OY576\n",
            "Letras: OY\n",
            "Alfabeto: ['O', 'Y', '0', '1', '2', '3', '4', '5', '6', '7', '8', '9']\n",
            "Token: 884OY576\n"
          ]
        }
      ]
    }
  ]
}