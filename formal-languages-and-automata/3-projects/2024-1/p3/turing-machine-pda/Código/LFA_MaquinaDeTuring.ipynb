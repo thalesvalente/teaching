{
  "nbformat": 4,
  "nbformat_minor": 0,
  "metadata": {
    "colab": {
      "provenance": []
    },
    "kernelspec": {
      "name": "python3",
      "display_name": "Python 3"
    },
    "language_info": {
      "name": "python"
    }
  },
  "cells": [
    {
      "cell_type": "markdown",
      "source": [
        "###Còdigo 1 - Máquina de Turing"
      ],
      "metadata": {
        "id": "d_3MFNMSI4Xs"
      }
    },
    {
      "cell_type": "markdown",
      "source": [
        "Autômato com Implementação de Pilha\n",
        "Um autômato de pilha é um tipo de autômato que, além dos estados, também possui uma pilha que pode ser usada para armazenar e recuperar símbolos. Ele é mais poderoso do que um autômato finito, pois pode reconhecer linguagens context-free.\n",
        "\n",
        "Esses códigos fornecem uma base para entender como uma Máquina de Turing e um Autômato de Pilha podem ser implementados e testados em Python."
      ],
      "metadata": {
        "id": "TSUVrC6VLJHF"
      }
    },
    {
      "cell_type": "code",
      "execution_count": 40,
      "metadata": {
        "colab": {
          "base_uri": "https://localhost:8080/"
        },
        "id": "eOJ5uW8PHkFP",
        "outputId": "940a680f-5c8e-4821-b846-86cba9664d93"
      },
      "outputs": [
        {
          "output_type": "stream",
          "name": "stdout",
          "text": [
            "Fita final: 1110\n",
            "Estado final: q_accept\n"
          ]
        }
      ],
      "source": [
        "class TuringMachine:\n",
        "    def __init__(self, tape, initial_state, accepting_states, transitions):\n",
        "        self.tape = list(tape)\n",
        "        self.head_position = 0\n",
        "        self.current_state = initial_state\n",
        "        self.accepting_states = accepting_states\n",
        "        self.transitions = transitions\n",
        "\n",
        "    def step(self):\n",
        "        if self.current_state in self.accepting_states:\n",
        "            return False\n",
        "        current_symbol = self.tape[self.head_position]\n",
        "        action = self.transitions.get((self.current_state, current_symbol))\n",
        "        if action is None:\n",
        "            return False\n",
        "        new_state, new_symbol, direction = action\n",
        "        self.tape[self.head_position] = new_symbol\n",
        "        self.current_state = new_state\n",
        "        if direction == 'R':\n",
        "            self.head_position += 1\n",
        "        elif direction == 'L':\n",
        "            self.head_position -= 1\n",
        "        return True\n",
        "\n",
        "    def run(self):\n",
        "        while self.step():\n",
        "            pass\n",
        "        return ''.join(self.tape), self.current_state\n",
        "\n",
        "# Exemplo de uso\n",
        "tape = \"0110\"\n",
        "initial_state = \"q0\"\n",
        "accepting_states = {\"q_accept\"}\n",
        "transitions = {\n",
        "    (\"q0\", \"0\"): (\"q1\", \"1\", \"R\"),\n",
        "    (\"q1\", \"1\"): (\"q_accept\", \"1\", \"R\"),\n",
        "    # Adicione mais transições conforme necessário\n",
        "}\n",
        "\n",
        "tm = TuringMachine(tape, initial_state, accepting_states, transitions)\n",
        "result_tape, final_state = tm.run()\n",
        "print(f\"Fita final: {result_tape}\")\n",
        "print(f\"Estado final: {final_state}\")"
      ]
    },
    {
      "cell_type": "markdown",
      "source": [
        "Autômato com Implementação de Pilha\n",
        "Um autômato de pilha é um tipo de autômato que, além dos estados, também possui uma pilha que pode ser usada para armazenar e recuperar símbolos. Ele é mais poderoso do que um autômato finito, pois pode reconhecer linguagens context-free."
      ],
      "metadata": {
        "id": "dVlYWOMXVlhS"
      }
    },
    {
      "cell_type": "code",
      "source": [
        "class StackAutomaton:\n",
        "    def __init__(self, initial_state, accepting_states, transitions):\n",
        "        self.stack = []\n",
        "        self.current_state = initial_state\n",
        "        self.accepting_states = accepting_states\n",
        "        self.transitions = transitions\n",
        "\n",
        "    def step(self, input_symbol):\n",
        "        action = self.transitions.get((self.current_state, input_symbol, self.stack[-1] if self.stack else None))\n",
        "        if action is None:\n",
        "            return False\n",
        "        new_state, stack_action, stack_symbol = action\n",
        "        self.current_state = new_state\n",
        "        if stack_action == \"PUSH\":\n",
        "            self.stack.append(stack_symbol)\n",
        "        elif stack_action == \"POP\":\n",
        "            self.stack.pop()\n",
        "        return True\n",
        "\n",
        "    def run(self, input_string):\n",
        "        for symbol in input_string:\n",
        "            if not self.step(symbol):\n",
        "                return False\n",
        "        return self.current_state in self.accepting_states\n",
        "\n",
        "# Exemplo de uso\n",
        "initial_state = \"q0\"\n",
        "accepting_states = {\"q_accept\"}\n",
        "transitions = {\n",
        "    (\"q0\", \"a\", None): (\"q1\", \"PUSH\", \"A\"),\n",
        "    (\"q1\", \"b\", \"A\"): (\"q_accept\", \"POP\", None),\n",
        "    # Adicione mais transições conforme necessário\n",
        "}\n",
        "\n",
        "sa = StackAutomaton(initial_state, accepting_states, transitions)\n",
        "input_string = \"ab\"\n",
        "is_accepted = sa.run(input_string)\n",
        "print(f\"A entrada '{input_string}' foi {'aceita' if is_accepted else 'rejeitada'} pelo autômato de pilha.\")"
      ],
      "metadata": {
        "colab": {
          "base_uri": "https://localhost:8080/"
        },
        "id": "1vdFLqoZHxor",
        "outputId": "66a455b7-a33d-4af6-82cf-d771ef3a5bc3"
      },
      "execution_count": 41,
      "outputs": [
        {
          "output_type": "stream",
          "name": "stdout",
          "text": [
            "A entrada 'ab' foi aceita pelo autômato de pilha.\n"
          ]
        }
      ]
    },
    {
      "cell_type": "markdown",
      "source": [
        "Esses códigos fornecem uma base para entender como uma Máquina de Turing e um Autômato de Pilha podem ser implementados e testados em Python."
      ],
      "metadata": {
        "id": "Ecm3xB1QVuvJ"
      }
    },
    {
      "cell_type": "markdown",
      "source": [
        "###Código 2 - Máquina de Turing"
      ],
      "metadata": {
        "id": "Oc27-pCNI8MT"
      }
    },
    {
      "cell_type": "markdown",
      "source": [
        "Exemplo de Máquina de Turing para aceitar a linguagem a^n b^n (n >= 1)\n",
        "Isso significa que a Máquina de Turing aceitará strings com um número igual de 'a's seguidos por um número igual de 'b's, como aabb, aaabbb, etc."
      ],
      "metadata": {
        "id": "p1GzKappKEHD"
      }
    },
    {
      "cell_type": "code",
      "source": [
        "class TuringMachine:\n",
        "    def __init__(self, tape, initial_state, accepting_states, transitions):\n",
        "        self.tape = list(tape) + [' '] * 100  # Adicionando espaço extra na fita\n",
        "        self.head_position = 0\n",
        "        self.current_state = initial_state\n",
        "        self.accepting_states = accepting_states\n",
        "        self.transitions = transitions\n",
        "\n",
        "    def step(self):\n",
        "        if self.current_state in self.accepting_states:\n",
        "            return False\n",
        "        current_symbol = self.tape[self.head_position]\n",
        "        action = self.transitions.get((self.current_state, current_symbol))\n",
        "        if action is None:\n",
        "            return False\n",
        "        new_state, new_symbol, direction = action\n",
        "        self.tape[self.head_position] = new_symbol\n",
        "        self.current_state = new_state\n",
        "        if direction == 'R':\n",
        "            self.head_position += 1\n",
        "        elif direction == 'L':\n",
        "            self.head_position -= 1\n",
        "        return True\n",
        "\n",
        "    def run(self):\n",
        "        while self.step():\n",
        "            pass\n",
        "        return ''.join(self.tape), self.current_state\n",
        "\n",
        "# Exemplo de uso\n",
        "tape = \"aaabbb\"\n",
        "initial_state = \"q0\"\n",
        "accepting_states = {\"q_accept\"}\n",
        "transitions = {\n",
        "    (\"q0\", \"a\"): (\"q1\", \"X\", \"R\"),\n",
        "    (\"q1\", \"a\"): (\"q1\", \"a\", \"R\"),\n",
        "    (\"q1\", \"b\"): (\"q2\", \"Y\", \"L\"),\n",
        "    (\"q2\", \"a\"): (\"q2\", \"a\", \"L\"),\n",
        "    (\"q2\", \"X\"): (\"q0\", \"X\", \"R\"),\n",
        "    (\"q1\", \"Y\"): (\"q1\", \"Y\", \"R\"),\n",
        "    (\"q1\", \" \"): (\"q_accept\", \" \", \"N\"),\n",
        "    # Adicione mais transições conforme necessário\n",
        "}\n",
        "\n",
        "tm = TuringMachine(tape, initial_state, accepting_states, transitions)\n",
        "result_tape, final_state = tm.run()\n",
        "print(f\"Fita final: {result_tape.strip()}\")\n",
        "print(f\"Estado final: {final_state}\")"
      ],
      "metadata": {
        "colab": {
          "base_uri": "https://localhost:8080/"
        },
        "id": "QWOXq1aBI7yb",
        "outputId": "781c9581-8018-419d-9c39-d33ff1ccd7af"
      },
      "execution_count": 42,
      "outputs": [
        {
          "output_type": "stream",
          "name": "stdout",
          "text": [
            "Fita final: XXaYYb\n",
            "Estado final: q2\n"
          ]
        }
      ]
    },
    {
      "cell_type": "markdown",
      "source": [
        "Para o exemplo acima, o grafo seria:\n",
        "\n",
        "q0 --a--> q1 (PUSH A)\n",
        "\n",
        "q1 --a--> q1 (PUSH A)\n",
        "\n",
        "q1 --b--> q2 (POP)\n",
        "\n",
        "q2 --b--> q2 (POP)\n",
        "\n",
        "q2 --ε--> q_accept"
      ],
      "metadata": {
        "id": "hlgwPCKlWJlF"
      }
    },
    {
      "cell_type": "markdown",
      "source": [
        "Vamos expandir o exemplo do Autômato de Pilha para aceitar a linguagem a^n b^n (n >= 1)."
      ],
      "metadata": {
        "id": "M65uLzGCWa4x"
      }
    },
    {
      "cell_type": "code",
      "source": [
        "class StackAutomaton:\n",
        "    def __init__(self, initial_state, accepting_states, transitions):\n",
        "        self.stack = []\n",
        "        self.current_state = initial_state\n",
        "        self.accepting_states = accepting_states\n",
        "        self.transitions = transitions\n",
        "\n",
        "    def step(self, input_symbol):\n",
        "        top_symbol = self.stack[-1] if self.stack else None\n",
        "        action = self.transitions.get((self.current_state, input_symbol, top_symbol))\n",
        "        if action is None:\n",
        "            return False\n",
        "        new_state, stack_action, stack_symbol = action\n",
        "        self.current_state = new_state\n",
        "        if stack_action == \"PUSH\":\n",
        "            self.stack.append(stack_symbol)\n",
        "        elif stack_action == \"POP\":\n",
        "            self.stack.pop()\n",
        "        return True\n",
        "\n",
        "    def run(self, input_string):\n",
        "        for symbol in input_string:\n",
        "            if not self.step(symbol):\n",
        "                return False\n",
        "        return self.current_state in self.accepting_states and not self.stack\n",
        "\n",
        "# Exemplo de uso\n",
        "initial_state = \"q0\"\n",
        "accepting_states = {\"q_accept\"}\n",
        "transitions = {\n",
        "    (\"q0\", \"a\", None): (\"q1\", \"PUSH\", \"A\"),\n",
        "    (\"q1\", \"a\", \"A\"): (\"q1\", \"PUSH\", \"A\"),\n",
        "    (\"q1\", \"b\", \"A\"): (\"q2\", \"POP\", None),\n",
        "    (\"q2\", \"b\", \"A\"): (\"q2\", \"POP\", None),\n",
        "    (\"q2\", None, None): (\"q_accept\", None, None),\n",
        "    # Adicione mais transições conforme necessário\n",
        "}\n",
        "\n",
        "sa = StackAutomaton(initial_state, accepting_states, transitions)\n",
        "input_string = \"aaabbb\"\n",
        "is_accepted = sa.run(input_string)\n",
        "print(f\"A entrada '{input_string}' foi {'aceita' if is_accepted else 'rejeitada'} pelo autômato de pilha.\")"
      ],
      "metadata": {
        "colab": {
          "base_uri": "https://localhost:8080/"
        },
        "id": "I-Yb0rEwJDks",
        "outputId": "51a973d9-1d5b-488a-aa8e-3559ce44218c"
      },
      "execution_count": 43,
      "outputs": [
        {
          "output_type": "stream",
          "name": "stdout",
          "text": [
            "A entrada 'aaabbb' foi rejeitada pelo autômato de pilha.\n"
          ]
        }
      ]
    },
    {
      "cell_type": "markdown",
      "source": [
        "Grafo do Autômato de Pilha\n",
        "Para o exemplo acima, o grafo seria:\n",
        "\n",
        "q0 --a--> q1 (PUSH A)\n",
        "\n",
        "q1 --a--> q1 (PUSH A)\n",
        "\n",
        "q1 --b--> q2 (POP)\n",
        "\n",
        "q2 --b--> q2 (POP)\n",
        "\n",
        "q2 --ε--> q_accept\n"
      ],
      "metadata": {
        "id": "Ke79thfXWimB"
      }
    },
    {
      "cell_type": "code",
      "source": [
        "from PIL import Image, ImageDraw, ImageFont\n",
        "\n",
        "class TuringMachine:\n",
        "    def __init__(self, tape, initial_state, accepting_states, transitions):\n",
        "        self.tape = list(tape) + [' '] * 100  # Adicionando espaço extra na fita\n",
        "        self.head_position = 0\n",
        "        self.current_state = initial_state\n",
        "        self.accepting_states = accepting_states\n",
        "        self.transitions = transitions\n",
        "        self.frames = []\n",
        "\n",
        "    def draw_tape(self):\n",
        "        width, height = 600, 100\n",
        "        img = Image.new('RGB', (width, height), color='white')\n",
        "        d = ImageDraw.Draw(img)\n",
        "        fnt = ImageFont.load_default()\n",
        "        tape_str = ''.join(self.tape).strip()\n",
        "        head_str = ' ' * self.head_position + '^'\n",
        "        d.text((10, 20), tape_str, font=fnt, fill=(0, 0, 0))\n",
        "        d.text((10, 40), head_str, font=fnt, fill=(255, 0, 0))\n",
        "        d.text((10, 60), f\"State: {self.current_state}\", font=fnt, fill=(0, 0, 255))\n",
        "        self.frames.append(img)\n",
        "\n",
        "    def step(self):\n",
        "        self.draw_tape()\n",
        "        if self.current_state in self.accepting_states:\n",
        "            return False\n",
        "        current_symbol = self.tape[self.head_position]\n",
        "        action = self.transitions.get((self.current_state, current_symbol))\n",
        "        if action is None:\n",
        "            return False\n",
        "        new_state, new_symbol, direction = action\n",
        "        self.tape[self.head_position] = new_symbol\n",
        "        self.current_state = new_state\n",
        "        if direction == 'R':\n",
        "            self.head_position += 1\n",
        "        elif direction == 'L':\n",
        "            self.head_position -= 1\n",
        "        return True\n",
        "\n",
        "    def run(self):\n",
        "        while self.step():\n",
        "            pass\n",
        "        self.draw_tape()\n",
        "        self.frames[0].save('turing_machine.gif', save_all=True, append_images=self.frames[1:], loop=0, duration=500)\n",
        "\n",
        "# Exemplo de uso\n",
        "tape = \"aaabbb\"\n",
        "initial_state = \"q0\"\n",
        "accepting_states = {\"q_accept\"}\n",
        "transitions = {\n",
        "    (\"q0\", \"a\"): (\"q1\", \"X\", \"R\"),\n",
        "    (\"q1\", \"a\"): (\"q1\", \"a\", \"R\"),\n",
        "    (\"q1\", \"b\"): (\"q2\", \"Y\", \"L\"),\n",
        "    (\"q2\", \"a\"): (\"q2\", \"a\", \"L\"),\n",
        "    (\"q2\", \"X\"): (\"q0\", \"X\", \"R\"),\n",
        "    (\"q1\", \"Y\"): (\"q1\", \"Y\", \"R\"),\n",
        "    (\"q1\", \" \"): (\"q_accept\", \" \", \"N\"),\n",
        "    # Adicione mais transições conforme necessário\n",
        "}\n",
        "\n",
        "tm = TuringMachine(tape, initial_state, accepting_states, transitions)\n",
        "tm.run()\n",
        "print(\"GIF salvo como 'turing_machine.gif'\")"
      ],
      "metadata": {
        "colab": {
          "base_uri": "https://localhost:8080/"
        },
        "id": "SCLsioYdJHEU",
        "outputId": "d6f5d639-613b-4c4c-bbac-d989c6a4c000"
      },
      "execution_count": 44,
      "outputs": [
        {
          "output_type": "stream",
          "name": "stdout",
          "text": [
            "GIF salvo como 'turing_machine.gif'\n"
          ]
        }
      ]
    }
  ]
}